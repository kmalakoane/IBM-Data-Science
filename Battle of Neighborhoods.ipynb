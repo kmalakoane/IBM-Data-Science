{
 "cells": [
  {
   "cell_type": "markdown",
   "metadata": {},
   "source": [
    "<h2><b>Capstone Project-Week 5</b></h2>"
   ]
  },
  {
   "cell_type": "markdown",
   "metadata": {},
   "source": [
    "<h3><b>Introduction/ Business Problem</b></h3>"
   ]
  },
  {
   "cell_type": "markdown",
   "metadata": {},
   "source": [
    "<b><h5> John recently moved to Manhattan with his family.He is looking for an apartment to rent but as he is new to the city he is unsure which neighborhood is the best to stay. He is interested in the neighborhood which has basic facilities nearby his apartment(such as restaurant, cafe, schools, super markets).The key questions that needs to be answered are :</h5><b>\n",
    "* What are the near neighborhoods of Manhattan and top venues in each neighborhood.\n",
    "+ What are the average rental amount for studio, 1 bedroom,2 bedrooms & 3 bedrooms apartment in each of these neighborhoods\n",
    "- Based on the above,what neighborhoods appear to be the best to stay (the one which is most affordable and have decent no of venues nearby).\n",
    "\n",
    "    \n",
    "   \n",
    "\n",
    "\n",
    "    "
   ]
  },
  {
   "cell_type": "markdown",
   "metadata": {},
   "source": [
    "<h3><b>Data</b></h3>"
   ]
  },
  {
   "cell_type": "markdown",
   "metadata": {},
   "source": [
    "The data needed to complete this analysis includes the following:\n",
    "* New York Neighborhood data with Postal Code, Neighborhood & Borough.\n",
    "* Foursquare Location data for Manhattan neighborhood\n",
    "+ Average rental data for studio/1 bedroom/2 bedroom/3 bedroom apartment in each of the Manhattan neighborhoods\n",
    "\n",
    "The above data will be used to identify the most affordable apartment in any of the neighborhood. John can decide which neighborhood is the most affordable for him. Not just this,he can also decide the size of the apartment( either it be studio/1/2/3 bedroom apartment. He will also get an idea on the number of venues he will be having near the apartment."
   ]
  },
  {
   "cell_type": "markdown",
   "metadata": {},
   "source": [
    "<h3><b>Methodology</b></h3>"
   ]
  },
  {
   "cell_type": "markdown",
   "metadata": {},
   "source": [
    "As John wanted a neighborhood with basic facilities and a decent rental apartment, the first task is to filter out the Manhattan neighborhoods using New York Postal dataset which was achieved by slicing out the Borough with the name Manhattan from the entire data set. \n",
    "\n",
    "Once the Manhattan Neighborhoods were known, second task is to find out the average rent of different size of apartments in each neighborhood.Here, the rentcafe page was scraped and wrangled the data, cleaned it, and then read it into a pandas dataframe so that it is in a structured format.\n",
    "\n",
    "At last,merged both the data sets across column on Neighborhood and applied Machine Learning- K means Clustering algorithm to cluster the neighborhoods in to 5 different clusters (k=5).\n",
    "\n",
    "Few exploratory analysis were applied to look on the shape, dimensions & the structure of datasets. \n",
    " "
   ]
  },
  {
   "cell_type": "markdown",
   "metadata": {},
   "source": [
    "<h3><b>Results</b></h3>"
   ]
  },
  {
   "cell_type": "markdown",
   "metadata": {},
   "source": [
    "5 different clusters of neighborhoods are fetched now.\n",
    "\n",
    "* First cluster contains Washington Heights,East Harlem,Lenox Hill,Upper West Side,Murray Hill,Greenwich Village,East Village,Manhattan Valley, Battery Park City, Civic Center, Turtle Bay,Tudor City & Hudson Yards neighborhoods. Here, the average rent of an apartment ranges between $2,170 - 5,363.\n",
    "\n",
    "+ Second cluster owns Chinatown, Lincoln Square, Chelsea & Morningside Heights neighborhoods with average rent around $4,181 - 4,864\n",
    "\n",
    "+ Third cluster has only Carnegie Hill and avg rent is $4,130. \n",
    "\n",
    "+ Fourth cluster owns Roosevelt Island with avg rent $3,430.\n",
    "\n",
    "+ Fifth cluster contains Financial District,Sutton Place & Stuyvesant Town and average rent ranges between $3,526- 4,018\n",
    "\n",
    "\n"
   ]
  },
  {
   "cell_type": "markdown",
   "metadata": {},
   "source": [
    "<h3><b>Discussion</b></h3>"
   ]
  },
  {
   "cell_type": "markdown",
   "metadata": {},
   "source": [
    "Once the results are achieved, lets discuss about each cluster & the neighborhoods in those cluster.\n",
    "\n",
    "Looking at the first cluster, John has got many options in this cluster. \n",
    "As the average rent ranges USD 2,170- 5,363 so John has lot of option to choose\n",
    "the best neighborhood for him & family. Here, he can opt the apartment based \n",
    "on his budget as he got a good range. Also, the venues are almost similar in these neighborhoods. \n",
    "So, if his budget allows to go for costlier apartments, he can opt Battery Park City with the maximum average rent of USD 5,363 and if not then he can opt Washington heights with minimum average rent USD 2,170.\n",
    "He can also choose the middle range neighborhoods in this cluster. Regarding venues, here he gets Cafe, different types of Restaurants, Park, Pizza Place, Gym, Bakery,Clothing stores which are the basic facilities.\n",
    "Basically, he has a very good collection of neighborhoods in this cluster.\n",
    "\n",
    "With regards to second cluster , here the average rent is more than $4000 which means that if John has a very limited budget, then this cluster will not be good for him as it doesnt give him options with lesser rental apartments.\n",
    "\n",
    "Third & Fourth cluster have just 1 neighborhood in them and they dont give John the chance to choose.\n",
    "\n",
    "In the Fifth cluster,the average rental range is $3,526 - 4,018. These are the middle range apartments in the Manhattan neighborhoods.In case, John is looking for the mediocre neighborhoods (i.e. which is not too costly and have decent facilities) then he can opt this cluster to choose the best neighborhood."
   ]
  },
  {
   "cell_type": "markdown",
   "metadata": {},
   "source": [
    "<h3><b>Conclusion</b></h3>"
   ]
  },
  {
   "cell_type": "markdown",
   "metadata": {},
   "source": [
    "The analysis done on the Manhattan neighborhood led us to 5 clusters and out of which the first and the fifth clusters were realized to be the good options for John to choose the best neighborhood which will fit all his needs/ expectations. \n",
    "\n",
    "It entirely depends on his budget and what all facilities are must for him (i.e if he is a fitness freak, he would definitely need Gym near to his apartment, if he is a big foodie then he will look for great restaurants near his apartment, if he has got sweet tooth then obviously he needs a bakery near by his house).\n",
    "\n",
    "This concludes Cluster 1 as the best neighborhood for him and it give him lot of such options to choose. "
   ]
  }
 ],
 "metadata": {
  "kernelspec": {
   "display_name": "Python 3",
   "language": "python",
   "name": "python3"
  },
  "language_info": {
   "codemirror_mode": {
    "name": "ipython",
    "version": 3
   },
   "file_extension": ".py",
   "mimetype": "text/x-python",
   "name": "python",
   "nbconvert_exporter": "python",
   "pygments_lexer": "ipython3",
   "version": "3.6.6"
  }
 },
 "nbformat": 4,
 "nbformat_minor": 2
}
