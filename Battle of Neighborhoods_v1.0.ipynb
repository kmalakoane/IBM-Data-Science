{
 "cells": [
  {
   "cell_type": "markdown",
   "metadata": {},
   "source": [
    "<h2><b>Capstone Project-Week 4</b></h2>"
   ]
  },
  {
   "cell_type": "markdown",
   "metadata": {},
   "source": [
    "<h3><b>Introduction/ Business Problem</b></h3>"
   ]
  },
  {
   "cell_type": "markdown",
   "metadata": {},
   "source": [
    "<b><h5> John recently moved to Manhattan with his family.He is looking for an apartment to rent but as he is new to the city he is unsure which neighborhood is the best to stay. He is interested in the neighborhood which has basic facilities nearby his apartment(such as restaurant, cafe, schools, super markets).The key questions that needs to be answered are :</h5><b>\n",
    "* What are the near neighborhoods of Manhattan and top venues in each neighborhood.\n",
    "+ What are the average rental amount for studio, 1 bedroom,2 bedrooms & 3 bedrooms apartment in each of these neighborhoods\n",
    "- Based on the above,what neighborhoods appear to be the best to stay (the one which is most affordable and have decent no of venues nearby).\n",
    "\n",
    "    \n",
    "   \n",
    "\n",
    "\n",
    "    "
   ]
  },
  {
   "cell_type": "markdown",
   "metadata": {},
   "source": [
    "<h3><b>Data</b></h3>"
   ]
  },
  {
   "cell_type": "markdown",
   "metadata": {},
   "source": [
    "The data needed to complete this analysis includes the following:\n",
    "* Foursquare Location data for Manhattan neighborhood\n",
    "+ Average rental data for studio/1 bedroom/2 bedroom/3 bedroom apartment in each of the Manhattan neighborhoods\n",
    "\n",
    "The above data will be used to identify the most affordable apartment in any of the neighborhood. John can decide which neighborhood is the most affordable for him. Not just this,he can also decide the size of the apartment( either it be studio/1/2/3 bedroom apartment. He will also get an idea on the number of venues he will be having near the apartment."
   ]
  }
 ],
 "metadata": {
  "kernelspec": {
   "display_name": "Python 3",
   "language": "python",
   "name": "python3"
  },
  "language_info": {
   "codemirror_mode": {
    "name": "ipython",
    "version": 3
   },
   "file_extension": ".py",
   "mimetype": "text/x-python",
   "name": "python",
   "nbconvert_exporter": "python",
   "pygments_lexer": "ipython3",
   "version": "3.6.6"
  }
 },
 "nbformat": 4,
 "nbformat_minor": 2
}
